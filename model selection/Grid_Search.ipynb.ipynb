{
 "cells": [
  {
   "cell_type": "markdown",
   "id": "7da2d9e8-0943-4d8b-b814-9af525d33cbf",
   "metadata": {},
   "source": [
    "Introduction to Grid Search"
   ]
  },
  {
   "cell_type": "markdown",
   "id": "8f0b7d39-01e6-4192-97c0-32fb8c89d276",
   "metadata": {},
   "source": [
    "Grid Search is a hyperparameter optimization technique used in machine learning. It involves defining a grid of hyperparameter values and then exhaustively evaluating the model’s performance for each combination of these values. The combination that yields the best performance is selected.\n",
    "\n",
    "\n",
    "جستجوی شبکه یک تکنیک بهینه‌سازی ابرپارامتر است که در یادگیری ماشین استفاده می‌شود. این روش شامل تعریف یک شبکه از مقادیر ابرپارامترها و سپس ارزیابی جامع عملکرد مدل برای هر ترکیب از این مقادیر است. ترکیبی که بهترین عملکرد را به دست می‌دهد، انتخاب می‌شود."
   ]
  },
  {
   "cell_type": "markdown",
   "id": "fd7ef79e-30d0-407a-86e5-5a50986c6f74",
   "metadata": {},
   "source": [
    "Why Use Grid Search?"
   ]
  },
  {
   "cell_type": "markdown",
   "id": "1a7cb9ee-e649-4db8-8f69-b234442314c0",
   "metadata": {},
   "source": [
    "Machine learning models have hyperparameters that are not learned from the data but set prior to training . The performance of a model is highly sensitive to these hyperparameters. Grid Search automates the process of finding the best hyperparameter values.\n",
    "\n",
    "\n",
    "\n",
    "مدل‌های یادگیری ماشین دارای ابرپارامترهایی هستند که از داده‌ها یاد گرفته نمی‌شوند، بلکه قبل از آموزش تنظیم می‌شوند \n",
    ". عملکرد یک مدل به شدت به این ابرپارامترها حساس است. جستجوی شبکه فرآیند یافتن بهترین مقادیر ابرپارامتر را خودکار می‌کند."
   ]
  },
  {
   "cell_type": "markdown",
   "id": "a3c34451-ac1c-454d-bb00-bf1ebe9fed3f",
   "metadata": {},
   "source": [
    "Steps Involved in Grid Search"
   ]
  },
  {
   "cell_type": "markdown",
   "id": "43d4e300-0192-4a1f-899e-d5e684335d1c",
   "metadata": {},
   "source": [
    "\n",
    "\n",
    "    1.Define the Hyperparameter Grid: Specify the hyperparameters you want to tune and the range of values for each.\n",
    "    2.Define the Evaluation Metric: Choose a metric to evaluate the model’s performance \n",
    "    3.Model Training and Evaluation: For each combination of hyperparameters, train the model and evaluate its performance using the chosen metric.\n",
    "    4,Select the Best Hyperparameters: Select the hyperparameter combination that yields the best performance.\n",
    "\n",
    "\n",
    "    تعریف شبکه ابرپارامتر: ابرپارامترهایی را که می‌خواهید تنظیم کنید و محدوده مقادیر برای هر کدام را مشخص کنید.1\n",
    "    تعریف معیار ارزیابی: یک معیار برای ارزیابی عملکرد مدل انتخاب کنید .2\n",
    "    آموزش و ارزیابی مدل: برای هر ترکیب از ابرپارامترها، مدل را آموزش دهید و عملکرد آن را با استفاده از معیار انتخابی ارزیابی کنید.3\n",
    "    انتخاب بهترین ابرپارامترها: ترکیبی از ابرپارامترها را که بهترین عملکرد را به دست می‌دهد، انتخاب کنید.4\n"
   ]
  },
  {
   "cell_type": "code",
   "execution_count": 1,
   "id": "f02d4eb8-56d6-4868-9c37-571b62533eba",
   "metadata": {},
   "outputs": [
    {
     "name": "stdout",
     "output_type": "stream",
     "text": [
      "Fitting 3 folds for each of 16 candidates, totalling 48 fits\n",
      "[CV] END .....................C=0.1, gamma=0.001, kernel=rbf; total time=   0.0s\n",
      "[CV] END .....................C=0.1, gamma=0.001, kernel=rbf; total time=   0.0s\n",
      "[CV] END .....................C=0.1, gamma=0.001, kernel=rbf; total time=   0.0s\n",
      "[CV] END ......................C=0.1, gamma=0.01, kernel=rbf; total time=   0.0s\n",
      "[CV] END ......................C=0.1, gamma=0.01, kernel=rbf; total time=   0.0s\n",
      "[CV] END ......................C=0.1, gamma=0.01, kernel=rbf; total time=   0.0s\n",
      "[CV] END .......................C=0.1, gamma=0.1, kernel=rbf; total time=   0.0s\n",
      "[CV] END .......................C=0.1, gamma=0.1, kernel=rbf; total time=   0.0s\n",
      "[CV] END .......................C=0.1, gamma=0.1, kernel=rbf; total time=   0.0s\n",
      "[CV] END .........................C=0.1, gamma=1, kernel=rbf; total time=   0.0s\n",
      "[CV] END .........................C=0.1, gamma=1, kernel=rbf; total time=   0.0s\n",
      "[CV] END .........................C=0.1, gamma=1, kernel=rbf; total time=   0.0s\n",
      "[CV] END .......................C=1, gamma=0.001, kernel=rbf; total time=   0.0s\n",
      "[CV] END .......................C=1, gamma=0.001, kernel=rbf; total time=   0.0s\n",
      "[CV] END .......................C=1, gamma=0.001, kernel=rbf; total time=   0.0s\n",
      "[CV] END ........................C=1, gamma=0.01, kernel=rbf; total time=   0.0s\n",
      "[CV] END ........................C=1, gamma=0.01, kernel=rbf; total time=   0.0s\n",
      "[CV] END ........................C=1, gamma=0.01, kernel=rbf; total time=   0.0s\n",
      "[CV] END .........................C=1, gamma=0.1, kernel=rbf; total time=   0.0s\n",
      "[CV] END .........................C=1, gamma=0.1, kernel=rbf; total time=   0.0s\n",
      "[CV] END .........................C=1, gamma=0.1, kernel=rbf; total time=   0.0s\n",
      "[CV] END ...........................C=1, gamma=1, kernel=rbf; total time=   0.0s\n",
      "[CV] END ...........................C=1, gamma=1, kernel=rbf; total time=   0.0s\n",
      "[CV] END ...........................C=1, gamma=1, kernel=rbf; total time=   0.0s\n",
      "[CV] END ......................C=10, gamma=0.001, kernel=rbf; total time=   0.0s\n",
      "[CV] END ......................C=10, gamma=0.001, kernel=rbf; total time=   0.0s\n",
      "[CV] END ......................C=10, gamma=0.001, kernel=rbf; total time=   0.0s\n",
      "[CV] END .......................C=10, gamma=0.01, kernel=rbf; total time=   0.0s\n",
      "[CV] END .......................C=10, gamma=0.01, kernel=rbf; total time=   0.0s\n",
      "[CV] END .......................C=10, gamma=0.01, kernel=rbf; total time=   0.0s\n",
      "[CV] END ........................C=10, gamma=0.1, kernel=rbf; total time=   0.0s\n",
      "[CV] END ........................C=10, gamma=0.1, kernel=rbf; total time=   0.0s\n",
      "[CV] END ........................C=10, gamma=0.1, kernel=rbf; total time=   0.0s\n",
      "[CV] END ..........................C=10, gamma=1, kernel=rbf; total time=   0.0s\n",
      "[CV] END ..........................C=10, gamma=1, kernel=rbf; total time=   0.0s\n",
      "[CV] END ..........................C=10, gamma=1, kernel=rbf; total time=   0.0s\n",
      "[CV] END .....................C=100, gamma=0.001, kernel=rbf; total time=   0.0s\n",
      "[CV] END .....................C=100, gamma=0.001, kernel=rbf; total time=   0.0s\n",
      "[CV] END .....................C=100, gamma=0.001, kernel=rbf; total time=   0.0s\n",
      "[CV] END ......................C=100, gamma=0.01, kernel=rbf; total time=   0.0s\n",
      "[CV] END ......................C=100, gamma=0.01, kernel=rbf; total time=   0.0s\n",
      "[CV] END ......................C=100, gamma=0.01, kernel=rbf; total time=   0.0s\n",
      "[CV] END .......................C=100, gamma=0.1, kernel=rbf; total time=   0.0s\n",
      "[CV] END .......................C=100, gamma=0.1, kernel=rbf; total time=   0.0s\n",
      "[CV] END .......................C=100, gamma=0.1, kernel=rbf; total time=   0.0s\n",
      "[CV] END .........................C=100, gamma=1, kernel=rbf; total time=   0.0s\n",
      "[CV] END .........................C=100, gamma=1, kernel=rbf; total time=   0.0s\n",
      "[CV] END .........................C=100, gamma=1, kernel=rbf; total time=   0.0s\n",
      "Best parameters found:  {'C': 10, 'gamma': 0.001, 'kernel': 'rbf'}\n",
      "              precision    recall  f1-score   support\n",
      "\n",
      "           0       1.00      1.00      1.00        53\n",
      "           1       1.00      1.00      1.00        50\n",
      "           2       1.00      1.00      1.00        47\n",
      "           3       0.98      0.96      0.97        54\n",
      "           4       1.00      1.00      1.00        60\n",
      "           5       0.99      1.00      0.99        66\n",
      "           6       1.00      1.00      1.00        53\n",
      "           7       0.98      0.98      0.98        55\n",
      "           8       0.98      1.00      0.99        43\n",
      "           9       0.98      0.97      0.97        59\n",
      "\n",
      "    accuracy                           0.99       540\n",
      "   macro avg       0.99      0.99      0.99       540\n",
      "weighted avg       0.99      0.99      0.99       540\n",
      "\n"
     ]
    }
   ],
   "source": [
    "from sklearn import datasets\n",
    "from sklearn.model_selection import train_test_split, GridSearchCV\n",
    "from sklearn.svm import SVC\n",
    "from sklearn.metrics import classification_report\n",
    "\n",
    "# Load the digits dataset\n",
    "digits = datasets.load_digits()\n",
    "\n",
    "# Split data into training and testing sets\n",
    "X_train, X_test, y_train, y_test = train_test_split(digits.data, digits.target, test_size=0.3, random_state=42)\n",
    "\n",
    "# Define the hyperparameter grid\n",
    "param_grid = {\n",
    "    'C': [0.1, 1, 10, 100],\n",
    "    'gamma': [0.001, 0.01, 0.1, 1],\n",
    "    'kernel': ['rbf']\n",
    "}\n",
    "\n",
    "# Create a GridSearchCV object\n",
    "grid = GridSearchCV(SVC(), param_grid, refit=True, verbose=2, cv=3) # Added cross-validation (cv)\n",
    "\n",
    "# Fit the model\n",
    "grid.fit(X_train, y_train)\n",
    "\n",
    "# Print the best parameters\n",
    "print(\"Best parameters found: \", grid.best_params_)\n",
    "\n",
    "# Evaluate the model\n",
    "grid_predictions = grid.predict(X_test)\n",
    "print(classification_report(y_test, grid_predictions))\n"
   ]
  },
  {
   "cell_type": "markdown",
   "id": "9a47ab64-7a2c-4d42-b776-88a8a5658df2",
   "metadata": {},
   "source": [
    "Explanation of the Code:"
   ]
  },
  {
   "cell_type": "markdown",
   "id": "be067dca-b2e9-4841-85f4-06256dfe73c4",
   "metadata": {},
   "source": [
    "\n",
    "   1. We load the digits dataset from scikit-learn.\n",
    "   2. We split the dataset into training and testing sets.\n",
    "   3. We define the param_grid which specifies the hyperparameters (C, gamma, kernel) and their possible values.\n",
    "   4. We create a GridSearchCV object, passing the SVM classifier, the param_grid, refit=True (which retrains the model with the best parameters found), verbose=2 (to display progress), and cv=3 for cross-validation.\n",
    "   5. We fit the GridSearchCV object to the training data.\n",
    "   6. We print the best parameters found by Grid Search.\n",
    "   7. We evaluate the model on the test set and print the classification report.\n",
    "\n",
    "\n",
    "\n",
    "    ما مجموعه داده ارقام را از سایکیت لرن بارگیری می‌کنیم.1\n",
    "    ما مجموعه داده را به مجموعه‌های آموزشی و آزمایشی تقسیم می‌کنیم.2\n",
    "    ما دیکشنری از پارامترها را تعریف می‌کنیم که ابرپارامترها  و مقادیر ممکن آنها را مشخص می‌کند.3\n",
    "    ما یک شی GridSearchCV ایجاد می‌کنیم، با عبور دادن طبقه‌بندی‌کننده SVM، param_grid، refit=True (که مدل را با بهترین پارامترهای یافت شده دوباره آموزش می‌دهد)، verbose=2 (برای نمایش پیشرفت) و cv=3 برای اعتبارسنجی متقابل.4\n",
    "    ما شی GridSearchCV را با داده‌های آموزشی مطابقت می‌دهیم.5\n",
    "    ما بهترین پارامترهای یافت شده توسط جستجوی شبکه را چاپ می‌کنیم.6\n",
    "    ما مدل را روی مجموعه آزمایشی ارزیابی می‌کنیم و گزارش طبقه‌بندی را چاپ می‌کنیم.7\n"
   ]
  },
  {
   "cell_type": "code",
   "execution_count": null,
   "id": "380a7449-d023-46e0-8777-f637e44f03f7",
   "metadata": {},
   "outputs": [],
   "source": []
  }
 ],
 "metadata": {
  "kernelspec": {
   "display_name": "Python 3 (ipykernel)",
   "language": "python",
   "name": "python3"
  },
  "language_info": {
   "codemirror_mode": {
    "name": "ipython",
    "version": 3
   },
   "file_extension": ".py",
   "mimetype": "text/x-python",
   "name": "python",
   "nbconvert_exporter": "python",
   "pygments_lexer": "ipython3",
   "version": "3.12.4"
  }
 },
 "nbformat": 4,
 "nbformat_minor": 5
}
